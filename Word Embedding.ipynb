{
 "cells": [
  {
   "cell_type": "markdown",
   "metadata": {},
   "source": [
    "#  Word Embedding"
   ]
  },
  {
   "cell_type": "markdown",
   "metadata": {},
   "source": [
    "## Bag of words"
   ]
  },
  {
   "cell_type": "code",
   "execution_count": 1,
   "metadata": {},
   "outputs": [],
   "source": [
    "from sklearn.feature_extraction.text import CountVectorizer"
   ]
  },
  {
   "cell_type": "code",
   "execution_count": 2,
   "metadata": {},
   "outputs": [],
   "source": [
    "text = ['the man went out for a walk', 'the children sat around the fire']"
   ]
  },
  {
   "cell_type": "code",
   "execution_count": 3,
   "metadata": {},
   "outputs": [
    {
     "name": "stdout",
     "output_type": "stream",
     "text": [
      "Vocabulary - Set of unique words in the corpus:  {'the': 7, 'man': 4, 'went': 9, 'out': 5, 'for': 3, 'walk': 8, 'children': 1, 'sat': 6, 'around': 0, 'fire': 2}\n"
     ]
    }
   ],
   "source": [
    "vector = CountVectorizer()\n",
    "vector.fit(text)\n",
    "print('Vocabulary - Set of unique words in the corpus: ', str(vector.vocabulary_))"
   ]
  },
  {
   "cell_type": "markdown",
   "metadata": {},
   "source": [
    "You see the word 'a' missing.\n",
    "\n",
    "Regular expression denoting what constitutes a “token”, only used if analyzer == 'word'. The default regexp select tokens of 2 or more alphanumeric characters (punctuation is completely ignored and always treated as a token separator).\n",
    "\n",
    "All the single character tokens are ignored by the default tokenizer. That is the reason why a is missing.\n",
    "\n",
    "If you want single character tokens to be in the vocabulary, then you have to use a costume tokenizer.\n",
    "\n",
    "Refer the link below link for reference.\n",
    "\n",
    "https://scikit-learn.org/stable/modules/generated/sklearn.feature_extraction.text.CountVectorizer.html "
   ]
  },
  {
   "cell_type": "code",
   "execution_count": 4,
   "metadata": {},
   "outputs": [
    {
     "name": "stdout",
     "output_type": "stream",
     "text": [
      "the feature names: the vocabulary:  ['a', 'around', 'children', 'fire', 'for', 'man', 'out', 'sat', 'the', 'walk', 'went']\n"
     ]
    },
    {
     "name": "stderr",
     "output_type": "stream",
     "text": [
      "C:\\Users\\javal\\anaconda3\\envs\\text_classification\\lib\\site-packages\\sklearn\\feature_extraction\\text.py:484: UserWarning: The parameter 'token_pattern' will not be used since 'tokenizer' is not None'\n",
      "  warnings.warn(\"The parameter 'token_pattern' will not be used\"\n"
     ]
    }
   ],
   "source": [
    "from sklearn.feature_extraction.text import CountVectorizer\n",
    "vector = CountVectorizer(tokenizer=lambda text: text.split())\n",
    "vector.fit(text)\n",
    "print ('the feature names: the vocabulary: ', vector.get_feature_names())"
   ]
  },
  {
   "cell_type": "code",
   "execution_count": 5,
   "metadata": {},
   "outputs": [
    {
     "name": "stdout",
     "output_type": "stream",
     "text": [
      "The unique words in vocabulary with their assigned numbers:  {'the': 8, 'man': 5, 'went': 10, 'out': 6, 'for': 4, 'a': 0, 'walk': 9, 'children': 2, 'sat': 7, 'around': 1, 'fire': 3}\n"
     ]
    }
   ],
   "source": [
    "print ('The unique words in vocabulary with their assigned numbers: ',vector.vocabulary_)"
   ]
  },
  {
   "cell_type": "code",
   "execution_count": 6,
   "metadata": {},
   "outputs": [
    {
     "name": "stdout",
     "output_type": "stream",
     "text": [
      "  (0, 0)\t1\n",
      "  (0, 4)\t1\n",
      "  (0, 5)\t1\n",
      "  (0, 6)\t1\n",
      "  (0, 8)\t1\n",
      "  (0, 9)\t1\n",
      "  (0, 10)\t1\n",
      "  (1, 1)\t1\n",
      "  (1, 2)\t1\n",
      "  (1, 3)\t1\n",
      "  (1, 7)\t1\n",
      "  (1, 8)\t2\n"
     ]
    }
   ],
   "source": [
    "counts = vector.transform(text)\n",
    "print(counts)"
   ]
  },
  {
   "cell_type": "markdown",
   "metadata": {},
   "source": [
    "0,1 represent documentA and documentB. The corresponding elements represent the uniue words as printed above (Reference: {'the': 8, 'man': 5, 'went': 10, 'out': 6, 'for': 4, 'a': 0, 'walk': 9, 'children': 2, 'sat': 7, 'around': 1, 'fire': 3}).\n",
    "\n",
    "Last column represent the repeatation of a term in a document. E.g. the word 'the' is repeated twice. "
   ]
  },
  {
   "cell_type": "code",
   "execution_count": 7,
   "metadata": {},
   "outputs": [
    {
     "name": "stdout",
     "output_type": "stream",
     "text": [
      "The shape of the count is: (2, 11)\n"
     ]
    }
   ],
   "source": [
    "print('The shape of the count is: '+str(counts.shape))"
   ]
  },
  {
   "cell_type": "markdown",
   "metadata": {},
   "source": [
    "Here 2 represents number of documents/sentences. 11 is number of unique words or we can say length of vocabulary."
   ]
  },
  {
   "cell_type": "code",
   "execution_count": 8,
   "metadata": {},
   "outputs": [
    {
     "name": "stdout",
     "output_type": "stream",
     "text": [
      "Printing the word vectors of size 11 dimensions for documentA and documentB\n",
      " [[1 0 0 0 1 1 1 0 1 1 1]\n",
      " [0 1 1 1 0 0 0 1 2 0 0]]\n"
     ]
    }
   ],
   "source": [
    "print('Printing the word vectors of size 11 dimensions for documentA and documentB\\n', str(counts.toarray()))"
   ]
  },
  {
   "cell_type": "markdown",
   "metadata": {},
   "source": [
    "##   TF-IDF"
   ]
  },
  {
   "cell_type": "code",
   "execution_count": 9,
   "metadata": {},
   "outputs": [],
   "source": [
    "from sklearn.feature_extraction.text import TfidfVectorizer\n"
   ]
  },
  {
   "cell_type": "markdown",
   "metadata": {},
   "source": [
    "TfidfVectorizer can be used when input is not taken from BOW. TfidfTransformer is used if input is taken from BOW"
   ]
  },
  {
   "cell_type": "code",
   "execution_count": 10,
   "metadata": {},
   "outputs": [
    {
     "name": "stdout",
     "output_type": "stream",
     "text": [
      "Learning frequencies of all features/terms/words:  [1.40546511 1.40546511 1.40546511 1.40546511 1.40546511 1.40546511\n",
      " 1.40546511 1.40546511 1.         1.40546511 1.40546511]\n"
     ]
    }
   ],
   "source": [
    "from sklearn.feature_extraction.text import TfidfTransformer\n",
    "#name = TfidfVectorizer()\n",
    "vectorizer = TfidfTransformer()\n",
    "\n",
    "# the counts is reference from the above count vectorizer code.\n",
    "vectorizer.fit(counts)\n",
    "print('Learning frequencies of all features/terms/words: ', str(vectorizer.idf_))"
   ]
  },
  {
   "cell_type": "code",
   "execution_count": 11,
   "metadata": {},
   "outputs": [
    {
     "data": {
      "text/plain": [
       "(11,)"
      ]
     },
     "execution_count": 11,
     "metadata": {},
     "output_type": "execute_result"
    }
   ],
   "source": [
    "vectorizer.idf_.shape"
   ]
  },
  {
   "cell_type": "code",
   "execution_count": 12,
   "metadata": {},
   "outputs": [
    {
     "name": "stdout",
     "output_type": "stream",
     "text": [
      "  (0, 10)\t0.3920440146223274\n",
      "  (0, 9)\t0.3920440146223274\n",
      "  (0, 8)\t0.2789425453258252\n",
      "  (0, 6)\t0.3920440146223274\n",
      "  (0, 5)\t0.3920440146223274\n",
      "  (0, 4)\t0.3920440146223274\n",
      "  (0, 0)\t0.3920440146223274\n",
      "  (1, 8)\t0.5797386715376657\n",
      "  (1, 7)\t0.40740123733358447\n",
      "  (1, 3)\t0.40740123733358447\n",
      "  (1, 2)\t0.40740123733358447\n",
      "  (1, 1)\t0.40740123733358447\n"
     ]
    }
   ],
   "source": [
    "freq = vectorizer.transform(counts)\n",
    "print(freq)"
   ]
  },
  {
   "cell_type": "code",
   "execution_count": 13,
   "metadata": {},
   "outputs": [
    {
     "name": "stdout",
     "output_type": "stream",
     "text": [
      "Transforming the matrix based on the learnt frequencies or weights:\n",
      "\n",
      " [[0.39204401 0.         0.         0.         0.39204401 0.39204401\n",
      "  0.39204401 0.         0.27894255 0.39204401 0.39204401]\n",
      " [0.         0.40740124 0.40740124 0.40740124 0.         0.\n",
      "  0.         0.40740124 0.57973867 0.         0.        ]]\n"
     ]
    }
   ],
   "source": [
    "print('Transforming the matrix based on the learnt frequencies or weights:\\n\\n', str(freq.toarray()))"
   ]
  }
 ],
 "metadata": {
  "kernelspec": {
   "display_name": "Python 3",
   "language": "python",
   "name": "python3"
  },
  "language_info": {
   "codemirror_mode": {
    "name": "ipython",
    "version": 3
   },
   "file_extension": ".py",
   "mimetype": "text/x-python",
   "name": "python",
   "nbconvert_exporter": "python",
   "pygments_lexer": "ipython3",
   "version": "3.8.5"
  }
 },
 "nbformat": 4,
 "nbformat_minor": 4
}
